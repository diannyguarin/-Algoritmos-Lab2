{
 "cells": [
  {
   "cell_type": "markdown",
   "metadata": {},
   "source": [
    "                    Insertion Sort-COUNTS SWAPS-Generating Permutation by Itertools\n",
    "\n",
    "El codigo esta comentado para mayor facilidad al leer, sin embargo, la explicacion es adicional: Importo librerias utiles para varias cosas mas adelante. se declara la lista cases para guardar la cantidad de pasos que se usaron por permutacion, este arreglo es por motivos de graficacion para hacer las cosas mas faciles."
   ]
  },
  {
   "cell_type": "code",
   "execution_count": 15,
   "metadata": {},
   "outputs": [],
   "source": [
    "#coding=utf-8\n",
    "import random\n",
    "import matplotlib.pyplot as plt\n",
    "import time\n",
    "import math\n",
    "import itertools\n",
    "\n",
    "cases=[] #guardo la cantidad de swaps\n",
    "numPer = 0\n",
    "min = 100**3 # minimo inicial puesto grande a proposito\n",
    "max = 0 # max inicial puesto asi a proposito\n",
    "sum = 0 # cuantos swaps se han calculado en total (todas las permutaciones hasta el momento)\n",
    "# # CONTEO NUMERO DE SWAPS\n",
    "def isSwaps(a):\n",
    "    v = []\n",
    "    for i in range(len(a)):\n",
    "        v.append(a[i])\n",
    "    steps = 0\n",
    "    for i in range(1,len(v)):\n",
    "        x = v[i]\n",
    "        j = i-1\n",
    "        while (j > -1) and (v[j] > x):\n",
    "            v[j+1] = v[j]\n",
    "            steps = steps + 1 #teoricamente intercambio v[j+1] con lo que habia en v[i]\n",
    "            # para mi el swap ocurre aca y no al salir del while porque al mover varios elementos mayores solo contaria la insercion final de x donde le corresponde\n",
    "            j = j -1\n",
    "        v[j+1] = x\n",
    "        \n",
    "    return steps\n"
   ]
  },
  {
   "cell_type": "markdown",
   "metadata": {},
   "source": [
    "El metodo principal que genera una lista aleatoria entre los limites especificados y sobre esta se calculan todas las permutaciones posibles con la libreria itertools, y se convierte sus elementos a listas(y al mismo tiempo se mide cuanto tarda) Luego se grafican los datos obtenidos en un histograma y se imprime un registro de las estadisticas que estamos observando"
   ]
  },
  {
   "cell_type": "code",
   "execution_count": 16,
   "metadata": {},
   "outputs": [
    {
     "name": "stderr",
     "output_type": "stream",
     "text": [
      "<ipython-input-16-c1a0fb8e2245>:20: SyntaxWarning: name 'sum' is assigned to before global declaration\n",
      "  global sum\n"
     ]
    }
   ],
   "source": [
    "# Esto hace todo \n",
    "def bigMethod(n,limitD,limitU):\n",
    "    global sum\n",
    "    sum =0\n",
    "    B = []\n",
    "    for x in range(n):\n",
    "        B += [random.randint(limitD,limitU)]# genera lista aleatorio entre los lim especificados de tamaño n\n",
    "    start =time.time()\n",
    "    iter= list(itertools.permutations(B,n))\n",
    "    global numPer\n",
    "    numPer= len(iter)\n",
    "    for i in range(len(iter)):\n",
    "        iter[i] = list(iter[i])\n",
    "        k = isSwaps(iter[i])\n",
    "        global cases \n",
    "        cases += [k] #añado el numero de swaps en la lista cases\n",
    "        #guardo el mejor y menor caso de swaps\n",
    "        global min\n",
    "        global max\n",
    "        global sum\n",
    "        if k < min :\n",
    "             min = k\n",
    "        if k > max :\n",
    "             max = k\n",
    "        #sumo los swaps a mi total\n",
    "        sum += k\n",
    "    end = time.time()\n",
    "    \n",
    "    print 'Total Time: ' + str(end-start)\n",
    "\n",
    "#PARA GRAFICAR\n",
    "    plt.hist(cases,align='mid')\n",
    "    plt.xlabel('Steps')\n",
    "    plt.ylabel('Number of sets')\n",
    "    plt.title('Freq. distrib. for steps in a random set of n size')\n",
    "\n",
    "    print 'Theoretical best time, ' + str(0) \n",
    "    print 'Theoretical worst time,' + str((1.0/2.0)*n**2 + (1.0/2.0)*n -n)\n",
    "    print 'Theoretical average time,' + str((1.0/4.0)*n**2 - (1.0/4.0)*n )\n",
    "    print 'Experimental best time, ' + str(min)\n",
    "    print 'Experimental worst time,' + str(max)\n",
    "    print 'Experimental average time,' + str(sum/numPer)\n",
    "    print 'Permutations: ' + str(numPer)\n",
    "    print 'n =' + str(n)\n",
    " "
   ]
  },
  {
   "cell_type": "markdown",
   "metadata": {},
   "source": [
    "Aca puedes digitar la prueba que quieras hacer: los parametros son (n,d,u) n: Tamaño de la lista d: desde donde quieres que esten los numeros de la lista u: hasta donde quieres que esten los numeros de la lista"
   ]
  },
  {
   "cell_type": "code",
   "execution_count": 17,
   "metadata": {},
   "outputs": [
    {
     "name": "stdout",
     "output_type": "stream",
     "text": [
      "Total Time: 2.16593408585\n",
      "Theoretical best time, 0\n",
      "Theoretical worst time,36.0\n",
      "Theoretical average time,18.0\n",
      "Experimental best time, 0\n",
      "Experimental worst time,33\n",
      "Experimental average time,16\n",
      "Permutations: 362880\n",
      "n =9\n"
     ]
    },
    {
     "data": {
      "image/png": "[encoded data removed]",
      "text/plain": [
       "<matplotlib.figure.Figure at 0x7fbe1beef7d0>"
      ]
     },
     "metadata": {},
     "output_type": "display_data"
    }
   ],
   "source": [
    "# ESCRIBE ACA LO QUE DESEES\n",
    "bigMethod(9,0,9)"
   ]
  }
 ],
 "metadata": {
  "kernelspec": {
   "display_name": "Python 2",
   "language": "python",
   "name": "python2"
  },
  "language_info": {
   "codemirror_mode": {
    "name": "ipython",
    "version": 2
   },
   "file_extension": ".py",
   "mimetype": "text/x-python",
   "name": "python",
   "nbconvert_exporter": "python",
   "pygments_lexer": "ipython2",
   "version": "2.7.12"
  }
 },
 "nbformat": 4,
 "nbformat_minor": 2
}