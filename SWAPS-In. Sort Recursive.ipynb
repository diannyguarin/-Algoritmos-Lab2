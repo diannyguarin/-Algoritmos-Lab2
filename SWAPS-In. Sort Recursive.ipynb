{
 "cells": [
  {
   "cell_type": "markdown",
   "metadata": {},
   "source": [
    "                 Insertion Sort-COUNTS SWAPS-Generating Permutation Recursively\n",
    "\n",
    "El codigo esta comentado para mayor facilidad al leer, sin embargo, la explicacion es adicional: Importo librerias utiles para varias cosas mas adelante. se declara la lista cases para guardar la cantidad de pasos que se usaron por permutacion, este arreglo es por motivos de graficacion para hacer las cosas mas faciles. Se define la funcion de conteo de swaps\n"
   ]
  },
  {
   "cell_type": "code",
   "execution_count": 18,
   "metadata": {},
   "outputs": [],
   "source": [
    "#coding=utf-8\n",
    "import random\n",
    "import matplotlib.pyplot as plt\n",
    "import time\n",
    "import math\n",
    "\n",
    "cases=[] #guardo la cantidad de swaps\n",
    "numPer = 0\n",
    "min = 100**3 # minimo inicial puesto grande a proposito\n",
    "max = 0 # max inicial puesto asi a proposito\n",
    "sum = 0 # cuantos swaps se han calculado en total (todas las permutaciones hasta el momento)\n",
    "# # CONTEO NUMERO DE SWAPS\n",
    "def isSwaps(a):\n",
    "    v = []\n",
    "    for i in range(len(a)):\n",
    "        v.append(a[i])\n",
    "    steps = 0\n",
    "    for i in range(1,len(v)):\n",
    "        x = v[i]\n",
    "        j = i-1\n",
    "        while (j > -1) and (v[j] > x):\n",
    "            v[j+1] = v[j]\n",
    "            steps = steps + 1 #teoricamente intercambio v[j+1] con lo que habia en v[i]\n",
    "            # para mi el swap ocurre aca y no al salir del while porque al mover varios elementos mayores solo contaria la insercion final de x donde le corresponde\n",
    "            j = j -1\n",
    "        v[j+1] = x\n",
    "        \n",
    "    return steps\n"
   ]
  },
  {
   "cell_type": "markdown",
   "metadata": {},
   "source": [
    "Mas funciones utiles: swap sirve para la generacion de todas las permutaciones recursivamente y permut genera las permutaciones y ademas, cuando genera una permutacion,hace calculo de las comparaciones con la funcion ya definida"
   ]
  },
  {
   "cell_type": "code",
   "execution_count": 19,
   "metadata": {},
   "outputs": [],
   "source": [
    "\n",
    "## FUNCION PARA SWAP\n",
    "def swap(v,i,j):\n",
    "    t=v[i]\n",
    "    v[i]=v[j]\n",
    "    v[j]=t\n",
    "\n",
    "## GENERACION DE PERMUTACIONES RECURSIVAS\n",
    "def permut(v,i,n):\n",
    "    #para cada permutacion encontrada se calculara la funcion de conteo pertinente\n",
    "    j=0\n",
    "    k=0\n",
    "    if i == n: # se hallo una permutacion\n",
    "        global numPer\n",
    "        numPer=numPer + 1 # llevo control de los swaps que he encontrado\n",
    "        k=isSwaps(v)#calculo el num de swaps\n",
    "        global cases \n",
    "        cases += [k] #añado el numero de swaps en la lista cases\n",
    "        #guardo el mejor y menor caso de swaps\n",
    "        global min\n",
    "        global max\n",
    "        global sum\n",
    "        if k < min :\n",
    "             min = k\n",
    "        if k > max :\n",
    "             max = k\n",
    "        #sumo los swaps a mi total\n",
    "        sum += k\n",
    "    else:\n",
    "        for j in range(i,n):\n",
    "            #se va iterando por la lista v, hallando todas las perm posibles\n",
    "            swap(v,i,j) #intercambio dos elementos adecuadamente\n",
    "            permut(v,i+1,n)# las subpermutaciones recursivamente\n",
    "            swap(v,i,j)   #vuelve a la normalidad\n"
   ]
  },
  {
   "cell_type": "markdown",
   "metadata": {},
   "source": [
    "El metodo principal que genera una lista aleatoria entre los limites especificados y sobre esta se calculan todas las permutaciones posibles(y al mismo tiempo se mide cuanto tarda) Luego se grafican los datos obtenidos en un histograma y se imprime un registro de las estadisticas que estamos observando"
   ]
  },
  {
   "cell_type": "code",
   "execution_count": 20,
   "metadata": {},
   "outputs": [],
   "source": [
    "# Esto hace todo \n",
    "def bigMethod(n,limitD,limitU):\n",
    "    \n",
    "    B = []\n",
    "    for x in range(n):\n",
    "        B += [random.randint(limitD,limitU)]# genera lista aleatorio entre los lim especificados de tamaño n\n",
    "        \n",
    "    #calcular permutaciones sobre ese arreglo\n",
    "    start =time.time()\n",
    "    permut(B,0,len(B))# aca se guardan los datos que necesito\n",
    "    end = time.time()\n",
    "    \n",
    "    print 'Total Time: ' + str(end-start)\n",
    "    \n",
    "#PARA GRAFICAR\n",
    "    plt.hist(cases,align='mid')\n",
    "    plt.xlabel('Steps')\n",
    "    plt.ylabel('Number of sets')\n",
    "    plt.title('Freq. distrib. for steps in a random set of n size')\n",
    "\n",
    "    print 'Theoretical best time, ' + str(0) \n",
    "    print 'Theoretical worst time,' + str((1.0/2.0)*n**2 + (1.0/2.0)*n - n)\n",
    "    print 'Theoretical average time,' + str((1.0/4.0)*n**2 - (1.0/4.0)*n )\n",
    "    print 'Experimental best time, ' + str(min)\n",
    "    print 'Experimental worst time,' + str(max)\n",
    "    print 'Experimental average time,' + str(sum/numPer)\n",
    "    print 'Permutations: ' + str(numPer)\n",
    "    print 'n =' + str(n)\n"
   ]
  },
  {
   "cell_type": "markdown",
   "metadata": {},
   "source": [
    "Aca puedes digitar la prueba que quieras hacer: los parametros son (n,d,u) n: Tamaño de la lista d: desde donde quieres que esten los numeros de la lista u: hasta donde quieres que esten los numeros de la lista"
   ]
  },
  {
   "cell_type": "code",
   "execution_count": 21,
   "metadata": {},
   "outputs": [
    {
     "name": "stdout",
     "output_type": "stream",
     "text": [
      "Total Time: 2.49461317062\n",
      "Theoretical best time, 0\n",
      "Theoretical worst time,36.0\n",
      "Theoretical average time,18.0\n",
      "Experimental best time, 0\n",
      "Experimental worst time,32\n",
      "Experimental average time,16\n",
      "Permutations: 362880\n",
      "n =9\n"
     ]
    },
    {
     "data": {
      "image/png": "[encoded data removed]",
      "text/plain": [
       "<matplotlib.figure.Figure at 0x7fbc0006f090>"
      ]
     },
     "metadata": {},
     "output_type": "display_data"
    }
   ],
   "source": [
    "# ESCRIBE ACA LO QUE DESEES\n",
    "bigMethod(9,0,9)"
   ]
  }
 ],
 "metadata": {
  "kernelspec": {
   "display_name": "Python 2",
   "language": "python",
   "name": "python2"
  },
  "language_info": {
   "codemirror_mode": {
    "name": "ipython",
    "version": 2
   },
   "file_extension": ".py",
   "mimetype": "text/x-python",
   "name": "python",
   "nbconvert_exporter": "python",
   "pygments_lexer": "ipython2",
   "version": "2.7.12"
  }
 },
 "nbformat": 4,
 "nbformat_minor": 2
}