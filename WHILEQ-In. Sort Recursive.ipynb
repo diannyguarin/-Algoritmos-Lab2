{
 "cells": [
  {
   "cell_type": "markdown",
   "metadata": {},
   "source": [
    "                     Insertion Sort-COUNTS WHILE QUESTIONS-Generating Permutation Recursively\n",
    "\n",
    "El codigo esta comentado para mayor facilidad al leer, sin embargo, la explicacion es adicional: Importo librerias utiles para varias cosas mas adelante. se declara la lista cases para guardar la cantidad de pasos que se usaron por permutacion, este arreglo es por motivos de graficacion para hacer las cosas mas faciles. Se define la funcion de conteo de preguntas en el while\n"
   ]
  },
  {
   "cell_type": "code",
   "execution_count": 2,
   "metadata": {},
   "outputs": [],
   "source": [
    "#coding=utf-8\n",
    "import random\n",
    "import matplotlib.pyplot as plt\n",
    "import time\n",
    "import math\n",
    "\n",
    "cases=[] #guardo la cantidad de preguntas en el while\n",
    "numPer = 0\n",
    "min = 100**3 # minimo inicial puesto grande a proposito\n",
    "max = 0 # max inicial puesto asi a proposito\n",
    "sum = 0 # cuantas preguntas en el while se han calculado en total (todas las permutaciones hasta el momento)\n",
    "\n",
    "# # CONTEO NUMERO DE PREGUNTAS DEL WHILE\n",
    "def isWhileQ(a):\n",
    "    v = []\n",
    "    for i in range(len(a)):\n",
    "        v.append(a[i])\n",
    "    steps = 0\n",
    "    for i in range(1,len(v)):\n",
    "        x = v[i]\n",
    "        j = i-1\n",
    "        while (j > -1) and (v[j] > x):\n",
    "            v[j+1] = v[j]\n",
    "            j = j -1\n",
    "            steps = steps + 1 #pregunta del while \n",
    "        steps = steps + 1 # pregunta adicional con la que se sale del arrego o x es mayor a v[j]\n",
    "        v[j+1] = x\n",
    "    return steps\n"
   ]
  },
  {
   "cell_type": "markdown",
   "metadata": {},
   "source": [
    "Mas funciones utiles: swap sirve para la generacion de todas las permutaciones recursivamente y permut genera las permutaciones y ademas, cuando genera una permutacion,hace calculo de las preguntas en el while con la funcion ya definida"
   ]
  },
  {
   "cell_type": "code",
   "execution_count": 3,
   "metadata": {},
   "outputs": [],
   "source": [
    "## FUNCION PARA SWAP\n",
    "def swap(v,i,j):\n",
    "    t=v[i]\n",
    "    v[i]=v[j]\n",
    "    v[j]=t\n",
    "\n",
    "## GENERACION DE PERMUTACIONES RECURSIVAS\n",
    "def permut(v,i,n):\n",
    "    #para cada permutacion encontrada se calculara la funcion de conteo pertinente\n",
    "    j=0\n",
    "    k=0\n",
    "    if i == n: # se hallo una permutacion\n",
    "        global numPer\n",
    "        numPer=numPer + 1 # llevo control de las preguntas en el while que he encontrado\n",
    "        k=isWhileQ(v)#calculo el num de preguntas en el while\n",
    "        global cases \n",
    "        cases += [k] #añado el numero de preguntas en el while en la lista cases\n",
    "        #guardo el mejor y menor caso de preguntas en el while\n",
    "        global min\n",
    "        global max\n",
    "        global sum\n",
    "        if k < min :\n",
    "             min = k\n",
    "        if k > max :\n",
    "             max = k\n",
    "        #sumo las preguntas en el while a mi total\n",
    "        sum += k\n",
    "    else:\n",
    "        for j in range(i,n):\n",
    "            #se va iterando por la lista v, hallando todas las perm posibles\n",
    "            swap(v,i,j) #intercambio dos elementos adecuadamente\n",
    "            permut(v,i+1,n)# las subpermutaciones recursivamente\n",
    "            swap(v,i,j)   #vuelve a la normalidad\n"
   ]
  },
  {
   "cell_type": "markdown",
   "metadata": {},
   "source": [
    "El metodo principal que genera una lista aleatoria entre los limites especificados \n",
    "   y sobre esta se calculan todas las permutaciones posibles(y al mismo tiempo se mide cuanto tarda)\n",
    "Luego se grafican los datos obtenidos en un histograma y se imprime un registro de \n",
    "   las estadisticas que estamos observando"
   ]
  },
  {
   "cell_type": "code",
   "execution_count": 6,
   "metadata": {},
   "outputs": [],
   "source": [
    "# Esto hace todo \n",
    "def bigMethod(n,limitD,limitU):\n",
    "    global sum\n",
    "    sum =0\n",
    "    B = []\n",
    "    for x in range(n):\n",
    "        B += [random.randint(limitD,limitU)]# genera lista aleatorio entre los lim especificados de tamaño n\n",
    "        \n",
    "    #calcular permutaciones sobre ese arreglo\n",
    "    start =time.time()\n",
    "    permut(B,0,len(B))# aca se guardan los datos que necesito\n",
    "    end = time.time()\n",
    "    \n",
    "    print 'Total Time: ' + str(end-start)\n",
    "    \n",
    "#PARA GRAFICAR\n",
    "    plt.hist(cases,align='mid')\n",
    "    plt.xlabel('Steps')\n",
    "    plt.ylabel('Number of sets')\n",
    "    plt.title('Freq. distrib. for steps in a random set of n size')\n",
    "\n",
    "    print 'Theoretical best time, ' + str(n - 1) \n",
    "    print 'Theoretical worst time,' + str((1.0/2.0)*n**2 + (1.0/2.0)*n - 1)\n",
    "    print 'Theoretical average time,' + str((1.0/4.0)*n**2 + (3.0/4.0)*n - 1)\n",
    "    print 'Experimental best time, ' + str(min)\n",
    "    print 'Experimental worst time,' + str(max)\n",
    "    print 'Experimental average time,' + str(sum/numPer)\n",
    "    print 'Permutations: ' + str(numPer)\n",
    "    print 'n =' + str(n)\n"
   ]
  },
  {
   "cell_type": "markdown",
   "metadata": {},
   "source": [
    "Aca puedes digitar la prueba que quieras hacer: los parametros son (n,d,u) n: Tamaño de la lista d: desde donde quieres que esten los numeros de la lista u: hasta donde quieres que esten los numeros de la lista"
   ]
  },
  {
   "cell_type": "code",
   "execution_count": 5,
   "metadata": {},
   "outputs": [
    {
     "name": "stdout",
     "output_type": "stream",
     "text": [
      "Total Time: 2.46195793152\n",
      "Theoretical best time, 8\n",
      "Theoretical worst time,44.0\n",
      "Theoretical average time,26.0\n",
      "Experimental best time, 8\n",
      "Experimental worst time,40\n",
      "Experimental average time,24\n",
      "Permutations: 362880\n",
      "n =9\n"
     ]
    },
    {
     "data": {
      "image/png": "[encoded data removed]",
      "text/plain": [
       "<matplotlib.figure.Figure at 0x7f1a4de27d10>"
      ]
     },
     "metadata": {},
     "output_type": "display_data"
    }
   ],
   "source": [
    "# ESCRIBE ACA LO QUE DESEES\n",
    "bigMethod(9,0,9)"
   ]
  }
 ],
 "metadata": {
  "kernelspec": {
   "display_name": "Python 2",
   "language": "python",
   "name": "python2"
  },
  "language_info": {
   "codemirror_mode": {
    "name": "ipython",
    "version": 2
   },
   "file_extension": ".py",
   "mimetype": "text/x-python",
   "name": "python",
   "nbconvert_exporter": "python",
   "pygments_lexer": "ipython2",
   "version": "2.7.12"
  }
 },
 "nbformat": 4,
 "nbformat_minor": 2
}